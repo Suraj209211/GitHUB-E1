{
 "cells": [
  {
   "cell_type": "code",
   "execution_count": 13,
   "metadata": {},
   "outputs": [],
   "source": [
    "import torch\n",
    "import coremltools as ct\n",
    "import random"
   ]
  },
  {
   "cell_type": "markdown",
   "metadata": {},
   "source": [
    "# Define a simple PyTorch model that uses grid sampling and conversion process\n"
   ]
  },
  {
   "cell_type": "code",
   "execution_count": 14,
   "metadata": {},
   "outputs": [],
   "source": [
    "class PytorchGridSample(torch.nn.Module):\n",
    "    def forward(self, input,grid):\n",
    "        return torch.nn.functional.grid_sample(input,grid,align_corners = False)\n",
    "    \n",
    "def convert_to_coreml(model, inputs, is_float16=True):\n",
    "    traced_model = torch.jit.trace(\n",
    "        model, example_inputs=inputs, strict=False)\n",
    "\n",
    "    coreml_model = ct.converters.convert(traced_model,\n",
    "                                         inputs=[ct.TensorType(shape=inputs[0].shape),\n",
    "                                                 ct.TensorType(shape=inputs[1].shape)],\n",
    "                                         compute_precision=ct.precision.FLOAT16 if is_float16 else ct.precision.FLOAT32)\n",
    "    return coreml_model\n",
    "\n",
    "\n",
    "def compare_grid_samples_after_coreml_conversion(pt_model, inputs, is_float16):\n",
    "    pt_out = pt_model(*inputs)\n",
    "    coreml_pt_model = convert_to_coreml(pt_model, inputs, is_float16)\n",
    "    input_names_coreml_pt = [i for i in coreml_pt_model.input_description]\n",
    "    \n",
    "    # Adjustment done foe the grid sample\n",
    "    input_data = {\n",
    "        input_names_coreml_pt[0]: inputs[0].detach().numpy(),\n",
    "        input_names_coreml_pt[1]: inputs[1].permute(0, 2, 3, 1).contiguous().detach().numpy()\n",
    "    }\n",
    "\n",
    "    # Ensuring the grid shape to have correct shape of the tensor\n",
    "    input_data[input_names_coreml_pt[1]] = input_data[input_names_coreml_pt[1]][:, :, :, [1, 0]]\n",
    "\n",
    "    coreml_pt_out = torch.as_tensor(list(coreml_pt_model.predict(input_data).values())[0])\n",
    "    diff_pt_coreml = torch.norm(coreml_pt_out - pt_out)\n",
    "    return diff_pt_coreml\n",
    "    "
   ]
  },
  {
   "cell_type": "markdown",
   "metadata": {},
   "source": [
    "# Final state for the CoreML .pt values"
   ]
  },
  {
   "cell_type": "code",
   "execution_count": 15,
   "metadata": {},
   "outputs": [
    {
     "name": "stderr",
     "output_type": "stream",
     "text": [
      "When both 'convert_to' and 'minimum_deployment_target' not specified, 'convert_to' is set to \"mlprogram\" and 'minimum_deployment_targer' is set to ct.target.iOS15 (which is same as ct.target.macOS12). Note: the model will not run on systems older than iOS15/macOS12/watchOS8/tvOS15. In order to make your model run on older system, please set the 'minimum_deployment_target' to iOS14/iOS13. Details please see the link: https://coremltools.readme.io/docs/unified-conversion-api#target-conversion-formats\n",
      "Model is not in eval mode. Consider calling '.eval()' on your model prior to conversion\n",
      "Converting PyTorch Frontend ==> MIL Ops:  75%|███████▌  | 3/4 [00:00<00:00, 2832.71 ops/s]\n",
      "Running MIL frontend_pytorch pipeline: 100%|██████████| 5/5 [00:00<00:00, 23804.22 passes/s]\n",
      "Running MIL default pipeline:   0%|          | 0/71 [00:00<?, ? passes/s]/Library/Frameworks/Python.framework/Versions/3.11/lib/python3.11/site-packages/coremltools/converters/mil/mil/passes/defs/preprocess.py:267: UserWarning: Output, '6', of the source model, has been renamed to 'var_6' in the Core ML model.\n",
      "  warnings.warn(msg.format(var.name, new_name))\n",
      "Running MIL default pipeline: 100%|██████████| 71/71 [00:00<00:00, 6940.97 passes/s]\n",
      "Running MIL backend_mlprogram pipeline: 100%|██████████| 12/12 [00:00<00:00, 20132.66 passes/s]\n",
      "When both 'convert_to' and 'minimum_deployment_target' not specified, 'convert_to' is set to \"mlprogram\" and 'minimum_deployment_targer' is set to ct.target.iOS15 (which is same as ct.target.macOS12). Note: the model will not run on systems older than iOS15/macOS12/watchOS8/tvOS15. In order to make your model run on older system, please set the 'minimum_deployment_target' to iOS14/iOS13. Details please see the link: https://coremltools.readme.io/docs/unified-conversion-api#target-conversion-formats\n",
      "Model is not in eval mode. Consider calling '.eval()' on your model prior to conversion\n",
      "Converting PyTorch Frontend ==> MIL Ops:  75%|███████▌  | 3/4 [00:00<00:00, 6849.71 ops/s]\n",
      "Running MIL frontend_pytorch pipeline: 100%|██████████| 5/5 [00:00<00:00, 54189.97 passes/s]\n",
      "Running MIL default pipeline: 100%|██████████| 69/69 [00:00<00:00, 16858.33 passes/s]\n",
      "Running MIL backend_mlprogram pipeline: 100%|██████████| 12/12 [00:00<00:00, 37008.56 passes/s]"
     ]
    },
    {
     "name": "stdout",
     "output_type": "stream",
     "text": [
      "Difference between PyTorch's grid sample and CoreML converted model (FP16): 8.556744575500488\n",
      "Difference between PyTorch's grid sample and CoreML converted model (FP32): 8.556744575500488\n",
      "Relative change in the difference: 0.0\n"
     ]
    },
    {
     "name": "stderr",
     "output_type": "stream",
     "text": [
      "\n"
     ]
    }
   ],
   "source": [
    "# Output for the following\n",
    "input_size = (1, 64, 2, 2)\n",
    "grid_size = (1, 2, 2, 2)  \n",
    "\n",
    "input_tensor = torch.randn(input_size).to(torch.float32)\n",
    "grid = torch.randn(grid_size).to(torch.float32)\n",
    "inputs = [input_tensor, grid]\n",
    "\n",
    "pt_model = PytorchGridSample()\n",
    "\n",
    "diff_pt_coreml_fp16 = compare_grid_samples_after_coreml_conversion(pt_model, inputs, is_float16=True)\n",
    "diff_pt_coreml_fp32 = compare_grid_samples_after_coreml_conversion(pt_model, inputs, is_float16=False)\n",
    "\n",
    "print(f\"Difference between PyTorch's grid sample and CoreML converted model (FP16): {diff_pt_coreml_fp16}\")\n",
    "print(f\"Difference between PyTorch's grid sample and CoreML converted model (FP32): {diff_pt_coreml_fp32}\")\n",
    "print(f\"Relative change in the difference: {(diff_pt_coreml_fp16 - diff_pt_coreml_fp32) / diff_pt_coreml_fp32}\")\n"
   ]
  },
  {
   "cell_type": "code",
   "execution_count": null,
   "metadata": {},
   "outputs": [],
   "source": []
  }
 ],
 "metadata": {
  "kernelspec": {
   "display_name": "Python 3",
   "language": "python",
   "name": "python3"
  },
  "language_info": {
   "codemirror_mode": {
    "name": "ipython",
    "version": 3
   },
   "file_extension": ".py",
   "mimetype": "text/x-python",
   "name": "python",
   "nbconvert_exporter": "python",
   "pygments_lexer": "ipython3",
   "version": "3.11.5"
  }
 },
 "nbformat": 4,
 "nbformat_minor": 2
}

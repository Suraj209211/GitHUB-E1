{
 "cells": [
  {
   "cell_type": "code",
   "execution_count": 7,
   "metadata": {},
   "outputs": [
    {
     "name": "stdout",
     "output_type": "stream",
     "text": [
      "Exported graph: graph(%x : Float(1, 1, 64, 64, strides=[4096, 4096, 64, 1], requires_grad=0, device=cpu),\n",
      "      %grid : Float(1, 64, 64, 2, strides=[8192, 128, 2, 1], requires_grad=0, device=cpu)):\n",
      "  %2 : Float(1, 1, 64, 64, strides=[4096, 4096, 64, 1], requires_grad=0, device=cpu) = onnx::GridSample[align_corners=0, mode=\"bilinear\", padding_mode=\"zeros\", onnx_name=\"/GridSample\"](%x, %grid), scope: __main__.GridSampleModel:: # /Library/Frameworks/Python.framework/Versions/3.11/lib/python3.11/site-packages/torch/nn/functional.py:4304:0\n",
      "  return (%2)\n",
      "\n"
     ]
    },
    {
     "name": "stderr",
     "output_type": "stream",
     "text": [
      "/Library/Frameworks/Python.framework/Versions/3.11/lib/python3.11/site-packages/torch/nn/functional.py:4358: UserWarning: Default grid_sample and affine_grid behavior has changed to align_corners=False since 1.3.0. Please specify align_corners=True if the old behavior is desired. See the documentation of grid_sample for details.\n",
      "  warnings.warn(\n",
      "/Library/Frameworks/Python.framework/Versions/3.11/lib/python3.11/site-packages/torch/nn/functional.py:4296: UserWarning: Default grid_sample and affine_grid behavior has changed to align_corners=False since 1.3.0. Please specify align_corners=True if the old behavior is desired. See the documentation of grid_sample for details.\n",
      "  warnings.warn(\n"
     ]
    },
    {
     "ename": "TypeError",
     "evalue": "'module' object is not callable",
     "output_type": "error",
     "traceback": [
      "\u001b[0;31m---------------------------------------------------------------------------\u001b[0m",
      "\u001b[0;31mTypeError\u001b[0m                                 Traceback (most recent call last)",
      "Cell \u001b[0;32mIn[7], line 36\u001b[0m\n\u001b[1;32m     34\u001b[0m \u001b[38;5;66;03m# Convert the ONNX model to CoreML\u001b[39;00m\n\u001b[1;32m     35\u001b[0m mlmodel_path_fp16 \u001b[38;5;241m=\u001b[39m \u001b[38;5;124m\"\u001b[39m\u001b[38;5;124mgrid_sample_model_fp16.mlmodel\u001b[39m\u001b[38;5;124m\"\u001b[39m\n\u001b[0;32m---> 36\u001b[0m mlmodel_fp16 \u001b[38;5;241m=\u001b[39m \u001b[43mct\u001b[49m\u001b[38;5;241;43m.\u001b[39;49m\u001b[43mconverters\u001b[49m\u001b[43m(\u001b[49m\u001b[43monnx_path\u001b[49m\u001b[43m,\u001b[49m\u001b[43m \u001b[49m\u001b[43mtarget_ios\u001b[49m\u001b[38;5;241;43m=\u001b[39;49m\u001b[38;5;124;43m\"\u001b[39;49m\u001b[38;5;124;43mfp16\u001b[39;49m\u001b[38;5;124;43m\"\u001b[39;49m\u001b[43m)\u001b[49m\n\u001b[1;32m     37\u001b[0m mlmodel_fp16\u001b[38;5;241m.\u001b[39msave(mlmodel_path_fp16)\n\u001b[1;32m     39\u001b[0m \u001b[38;5;66;03m# Convert the ONNX model to CoreML with default precision (FP32)\u001b[39;00m\n",
      "\u001b[0;31mTypeError\u001b[0m: 'module' object is not callable"
     ]
    }
   ],
   "source": [
    "import torch\n",
    "import torch.nn as nn\n",
    "import torch.onnx\n",
    "import coremltools as ct\n",
    "import torch.nn.functional as F\n",
    "\n",
    "# Define a simple model with grid sampling\n",
    "class GridSampleModel(nn.Module):\n",
    "    def __init__(self):\n",
    "        super(GridSampleModel, self).__init__()\n",
    "        self.grid_sample_layer = nn.functional.grid_sample\n",
    "\n",
    "    def forward(self, x, grid):\n",
    "        return self.grid_sample_layer(x, grid)\n",
    "\n",
    "# Instantiate the model\n",
    "input_data = torch.randn(1, 1, 64, 64)  # Adjust dimensions as needed\n",
    "\n",
    "# Initialize a 2x3 affine matrix\n",
    "theta = torch.zeros(1, 2, 3)\n",
    "theta[:, 0, 0] = 1.0  # scale_x\n",
    "theta[:, 1, 1] = 1.0  # scale_y\n",
    "\n",
    "# Create the affine grid\n",
    "grid = F.affine_grid(theta, input_data.size())\n",
    "\n",
    "# Perform a forward pass\n",
    "output_pytorch = F.grid_sample(input_data, grid)\n",
    "\n",
    "# Convert the PyTorch model to ONNX\n",
    "onnx_path = \"grid_sample_model.onnx\"\n",
    "torch.onnx.export(model, (input_data, grid), onnx_path, verbose=True)\n",
    "\n",
    "# Convert the ONNX model to CoreML\n",
    "mlmodel_path_fp16 = \"grid_sample_model_fp16.mlmodel\"\n",
    "mlmodel_fp16 = ct.converters(onnx_path, target_ios=\"fp16\")\n",
    "mlmodel_fp16.save(mlmodel_path_fp16)\n",
    "\n",
    "# Convert the ONNX model to CoreML with default precision (FP32)\n",
    "mlmodel_path_fp32 = \"grid_sample_model_fp32.mlmodel\"\n",
    "mlmodel_fp32 = ct.converters(onnx_path)\n",
    "mlmodel_fp32.save(mlmodel_path_fp32)\n",
    "\n",
    "# Compare outputs\n",
    "output_coreml_fp16 = mlmodel_fp16.predict({\"input\": input_data.numpy(), \"grid\": grid.numpy()})\n",
    "output_coreml_fp32 = mlmodel_fp32.predict({\"input\": input_data.numpy(), \"grid\": grid.numpy()})\n",
    "\n",
    "# Calculate the relative change\n",
    "relative_change = torch.abs(output_coreml_fp16[\"output\"] - output_coreml_fp32[\"output\"]).mean() / torch.abs(output_coreml_fp32[\"output\"]).mean()\n",
    "\n",
    "print(f\"Relative Change: {relative_change.item() * 100:.2f}%\")\n"
   ]
  },
  {
   "cell_type": "code",
   "execution_count": null,
   "metadata": {},
   "outputs": [],
   "source": []
  }
 ],
 "metadata": {
  "kernelspec": {
   "display_name": "Python 3",
   "language": "python",
   "name": "python3"
  },
  "language_info": {
   "codemirror_mode": {
    "name": "ipython",
    "version": 3
   },
   "file_extension": ".py",
   "mimetype": "text/x-python",
   "name": "python",
   "nbconvert_exporter": "python",
   "pygments_lexer": "ipython3",
   "version": "3.11.5"
  }
 },
 "nbformat": 4,
 "nbformat_minor": 2
}
